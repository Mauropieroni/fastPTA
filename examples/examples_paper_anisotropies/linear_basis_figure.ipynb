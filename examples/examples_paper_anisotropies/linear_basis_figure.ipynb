{
    "cells": [
        {
            "cell_type": "markdown",
            "metadata": {},
            "source": [
                "# This notebook will reproduce the plot in Fig. 3 left of 2407.14460"
            ]
        },
        {
            "cell_type": "markdown",
            "metadata": {},
            "source": [
                "### - Start importing all libraries"
            ]
        },
        {
            "cell_type": "code",
            "execution_count": 3,
            "metadata": {},
            "outputs": [],
            "source": [
                "# Import global libs\n",
                "import sys\n",
                "import time\n",
                "import tqdm\n",
                "import numpy as np\n",
                "import matplotlib.pyplot as plt\n",
                "from multiprocessing import Pool, cpu_count\n",
                "\n",
                "sys.path.append('../')\n",
                "\n",
                "# Import local libs\n",
                "import examples_utils as eu\n",
                "import fastPTA.utils as ut\n",
                "from fastPTA.signals import get_signal_model\n",
                "from fastPTA.Fisher_code import compute_fisher"
            ]
        },
        {
            "cell_type": "markdown",
            "metadata": {},
            "source": [
                "### - Constants to generate the Fisher results"
            ]
        },
        {
            "cell_type": "code",
            "execution_count": 4,
            "metadata": {},
            "outputs": [],
            "source": [
                "# Total observation time in years\n",
                "T_obs_yrs = 16.03\n",
                "\n",
                "# Number of frequencies used in the analysis\n",
                "n_frequencies = 30\n",
                "\n",
                "# Number of pulsars used in the analysis\n",
                "n_pulsars = 68\n",
                "\n",
                "# Maximum value of l used in the analysis\n",
                "l_max = 6  \n",
                "\n",
                "# Define the signal model\n",
                "signal_model = get_signal_model('power_law')\n",
                "\n",
                "# The analysis assumes a power law template, specify here the input parameters\n",
                "log_amplitude = -7.1995  # log amplitude\n",
                "tilt = 2.0  # Tilt\n",
                "\n",
                "# Number of catalog realizations to be generated\n",
                "N_realizations = 30\n",
                "\n",
                "# Whether you want to regenerate the fishers\n",
                "regenerate_fishers = False\n",
                "\n",
                "# Name of the outfile, no need for the extension\n",
                "# (will be stored in generated_data/)\n",
                "outname = \"NGlike\""
            ]
        },
        {
            "cell_type": "markdown",
            "metadata": {},
            "source": [
                "### - Constants for the plots"
            ]
        },
        {
            "cell_type": "code",
            "execution_count": 5,
            "metadata": {},
            "outputs": [],
            "source": [
                "# Confidence level for the Cls\n",
                "limit_cl = 0.95\n",
                "\n",
                "# Number of samples used for each realization\n",
                "n_points = int(1e4)\n",
                "\n",
                "# Number of catalog realizations used in the analysis.\n",
                "# If larger than N_realizations taxes that as max\n",
                "N_realizations_in_plot = 32\n",
                "\n",
                "# Number of cores to be used for parallel computations\n",
                "num_cores = cpu_count()"
            ]
        },
        {
            "cell_type": "markdown",
            "metadata": {},
            "source": [
                "### - Build the injection "
            ]
        },
        {
            "cell_type": "code",
            "execution_count": 6,
            "metadata": {},
            "outputs": [],
            "source": [
                "# All multipoles here are set to zero\n",
                "signal_lm = (\n",
                "    1e-30 / np.sqrt(4 * np.pi) * np.ones(ut.get_n_coefficients_real(l_max))\n",
                ")\n",
                "\n",
                "# The monopole is set to 1 (with the right normalization)\n",
                "signal_lm[0] = 1.0 / np.sqrt(4 * np.pi)\n",
                "\n",
                "# The two parameters characterizing the signal in frequency\n",
                "signal_parameters = np.array([log_amplitude, tilt])\n",
                "\n",
                "# Len of the parameters used in the analysis\n",
                "shape_params = len(signal_parameters)\n",
                "\n",
                "# The monopole is not included in the fisher analysis since it's degenerate\n",
                "means = np.concatenate((signal_parameters, signal_lm[1:]))\n",
                "\n",
                "# The number of parameters used in the fisher analysis\n",
                "n_params = len(means)"
            ]
        },
        {
            "cell_type": "markdown",
            "metadata": {},
            "source": [
                "### - Define the inputs for compute_fisher"
            ]
        },
        {
            "cell_type": "code",
            "execution_count": 7,
            "metadata": {},
            "outputs": [],
            "source": [
                "# Dictionary with the kwargs to generete the pulsar catalogs\n",
                "generate_catalog_kwargs = {\n",
                "    \"n_pulsars\": n_pulsars,\n",
                "    \"save_catalog\": False,\n",
                "    \"use_ng_positions\" : True,\n",
                "    **eu.EPTAlike,\n",
                "}\n",
                "\n",
                "# Dictionary with the kwargs to generate noise and orf tensors \n",
                "get_tensors_kwargs = {\n",
                "    \"path_to_pulsar_catalog\": \"../pulsar_configurations/EPTA68.txt\",\n",
                "    \"add_curn\": False,\n",
                "    \"regenerate_catalog\": True,\n",
                "    \"anisotropies\": True,\n",
                "    \"l_max\": l_max,\n",
                "}\n",
                "\n",
                "# Dictionary with the kwargs to generate the fisher matrix\n",
                "fisher_kwargs = {\n",
                "    \"T_obs_yrs\": T_obs_yrs,\n",
                "    \"n_frequencies\": n_frequencies,\n",
                "    \"signal_model\": signal_model,\n",
                "    \"signal_parameters\": signal_parameters,\n",
                "    \"signal_lm\": signal_lm,\n",
                "}"
            ]
        },
        {
            "cell_type": "markdown",
            "metadata": {},
            "source": [
                "### - Try to load the fisher data, if not there generate"
            ]
        },
        {
            "cell_type": "code",
            "execution_count": 8,
            "metadata": {},
            "outputs": [
                {
                    "name": "stderr",
                    "output_type": "stream",
                    "text": [
                        "100%|██████████| 30/30 [05:42<00:00, 11.43s/it]\n"
                    ]
                }
            ],
            "source": [
                "try:\n",
                "    if regenerate_fishers:\n",
                "        raise FileNotFoundError(\"Flag forces regeneration\")\n",
                "\n",
                "    fisher = np.load(\"generated_data/\" + outname + \".npz\")[\"all_fishers\"]\n",
                "\n",
                "except FileNotFoundError:\n",
                "    fisher = np.zeros((N_realizations, n_params, n_params))\n",
                "\n",
                "    for index in tqdm.tqdm(range(N_realizations)):\n",
                "        res = compute_fisher(\n",
                "            **fisher_kwargs,\n",
                "            get_tensors_kwargs=get_tensors_kwargs,\n",
                "            generate_catalog_kwargs=generate_catalog_kwargs\n",
                "        )[-1]\n",
                "\n",
                "        # Delete the monopole since it's degenerate\n",
                "        fisher[index] = np.delete(np.delete(res, 2, axis=-1), 2, axis=-2)\n",
                "\n",
                "    np.savez(\"generated_data/\" + outname + \".npz\", all_fishers=fisher)"
            ]
        },
        {
            "cell_type": "markdown",
            "metadata": {},
            "source": [
                "### - Try to load the limits, if not there generate"
            ]
        },
        {
            "cell_type": "code",
            "execution_count": 9,
            "metadata": {},
            "outputs": [
                {
                    "name": "stderr",
                    "output_type": "stream",
                    "text": [
                        "/home/pieroni/.pyenv/versions/3.10.8/lib/python3.10/multiprocessing/popen_fork.py:66: RuntimeWarning: os.fork() was called. os.fork() is incompatible with multithreaded code, and JAX is multithreaded, so this will likely lead to a deadlock.\n",
                        "  self.pid = os.fork()\n",
                        "/home/pieroni/.pyenv/versions/3.10.8/lib/python3.10/multiprocessing/popen_fork.py:66: RuntimeWarning: os.fork() was called. os.fork() is incompatible with multithreaded code, and JAX is multithreaded, so this will likely lead to a deadlock.\n",
                        "  self.pid = os.fork()\n"
                    ]
                },
                {
                    "name": "stdout",
                    "output_type": "stream",
                    "text": [
                        "Time to compute Cl limts: 379.6666250228882\n"
                    ]
                }
            ],
            "source": [
                "try:\n",
                "    Cl_limits = np.loadtxt(\"generated_data/Cl_limits_\" + outname + \".dat\")\n",
                "    Cl_limits_prior = np.loadtxt(\n",
                "        \"generated_data/Cl_limits_prior_\" + outname + \".dat\"\n",
                "    )\n",
                "\n",
                "    if len(Cl_limits) != N_realizations:\n",
                "        raise FileNotFoundError(\"Flag forces regeneration\")\n",
                "\n",
                "except FileNotFoundError:\n",
                "    cov = ut.compute_inverse(fisher)\n",
                "\n",
                "    for j in range(min(N_realizations_in_plot, N_realizations)):\n",
                "        arg_grid = [\n",
                "            [means, cov[j]]\n",
                "            for j in range(min(N_realizations_in_plot, N_realizations))\n",
                "        ]\n",
                "\n",
                "    def get_Cl_wrapper(parameters):\n",
                "        return ut.get_Cl_limits(\n",
                "            *parameters,\n",
                "            shape_params,\n",
                "            n_points=n_points,\n",
                "            limit_cl=limit_cl,\n",
                "            max_iter=100,\n",
                "            prior=5.0 / (4.0 * np.pi)\n",
                "        )\n",
                "\n",
                "    start = time.time()\n",
                "    with Pool(num_cores) as p:\n",
                "        res = np.array(p.map(get_Cl_wrapper, arg_grid, chunksize=1))\n",
                "    end = time.time()\n",
                "    print(\"Time to compute Cl limts:\", end - start)\n",
                "\n",
                "    Cl_limits = res[:, 0]\n",
                "    Cl_limits_prior = res[:, 1]\n",
                "\n",
                "    Cl_limits_prior = Cl_limits_prior[np.isfinite(Cl_limits_prior[:, 0])]\n",
                "    np.savetxt(\"generated_data/Cl_limits_\" + outname + \".dat\", Cl_limits)\n",
                "    np.savetxt(\n",
                "        \"generated_data/Cl_limits_prior_\" + outname + \".dat\", Cl_limits_prior\n",
                "    )\n",
                "\n",
                "# Normalize with C0\n",
                "Cl_limits *= 4 * np.pi \n",
                "Cl_limits_prior *= 4 * np.pi "
            ]
        },
        {
            "cell_type": "markdown",
            "metadata": {},
            "source": [
                "### - Compute mean and quantiles among the realizations"
            ]
        },
        {
            "cell_type": "code",
            "execution_count": 10,
            "metadata": {},
            "outputs": [],
            "source": [
                "# Compute the mean and the errors on the Cls without prior \n",
                "mean_Cl_limits = np.mean(Cl_limits, axis=0)\n",
                "err_low_Cl_limits = mean_Cl_limits - np.quantile(Cl_limits, 0.025, axis=0)\n",
                "err_high_Cl_limits = np.quantile(Cl_limits, 0.975, axis=0) - mean_Cl_limits\n",
                "\n",
                "# Compute the mean and the errors on the Cls with the prior \n",
                "mean_Cl_limits_prior = np.mean(Cl_limits_prior, axis=0)\n",
                "err_low_Cl_limits_prior = mean_Cl_limits_prior - np.quantile(\n",
                "    Cl_limits_prior, 0.025, axis=0\n",
                ")\n",
                "err_high_Cl_limits_prior = (\n",
                "    np.quantile(Cl_limits_prior, 0.975, axis=0) - mean_Cl_limits_prior\n",
                ")"
            ]
        },
        {
            "cell_type": "markdown",
            "metadata": {},
            "source": [
                "### - Compute the limits due to the prior only"
            ]
        },
        {
            "cell_type": "code",
            "execution_count": 11,
            "metadata": {},
            "outputs": [
                {
                    "name": "stdout",
                    "output_type": "stream",
                    "text": [
                        "Just prior:\n",
                        "C_l / C_0 = [1.26019351 1.13425166 1.04776571 1.00729175 0.96315859 0.94663484]\n"
                    ]
                }
            ],
            "source": [
                "data_prior = np.random.uniform(\n",
                "    -5.0 / (4.0 * np.pi), 5.0 / (4.0 * np.pi), (n_points, len(means[1:]))\n",
                ")\n",
                "\n",
                "Cl_prior_values = ut.get_CL_from_real_clm(data_prior.T)[1:]\n",
                "\n",
                "Cl_prior = np.quantile(Cl_prior_values, limit_cl, axis=-1)\n",
                "\n",
                "Cl_prior *= 4 * np.pi\n",
                "\n",
                "print(\"Just prior:\")\n",
                "print(\"C_l / C_0 =\", Cl_prior)"
            ]
        },
        {
            "cell_type": "markdown",
            "metadata": {},
            "source": [
                "### - Load the NANOgrav constraints"
            ]
        },
        {
            "cell_type": "code",
            "execution_count": 12,
            "metadata": {},
            "outputs": [],
            "source": [
                "limits_NG = np.loadtxt(\"data_paper_2/limits_Cl_powerlaw_lin_ng15.dat\")[:, 1]"
            ]
        },
        {
            "cell_type": "code",
            "execution_count": 13,
            "metadata": {},
            "outputs": [
                {
                    "data": {
                        "image/png": "[encoded data removed]",
                        "text/plain": [
                            "<Figure size 720x660 with 1 Axes>"
                        ]
                    },
                    "metadata": {},
                    "output_type": "display_data"
                }
            ],
            "source": [
                "plt.rc(\"text\", usetex=True)\n",
                "plt.rc(\"font\", family=\"serif\", size=11)\n",
                "plt.rcParams[\"text.latex.preamble\"] = (\n",
                "    r\"\\usepackage{amsmath} \\usepackage{amssymb}\"\n",
                ")\n",
                "fig = plt.figure(figsize=(0.4 * 12.0, 0.4 * 11.0), dpi=150, edgecolor=\"white\")\n",
                "ax = fig.add_subplot(1, 1, 1)\n",
                "ax.tick_params(\n",
                "    axis=\"both\", which=\"both\", labelsize=11, direction=\"in\", width=0.5\n",
                ")\n",
                "ax.xaxis.set_ticks_position(\"both\")\n",
                "ax.yaxis.set_ticks_position(\"both\")\n",
                "\n",
                "\n",
                "ax.semilogy(\n",
                "    np.arange(1, l_max + 1),\n",
                "    limits_NG,\n",
                "    label=r\"NANOGrav limits\",\n",
                "    color=\"green\",\n",
                "    marker=\"x\",\n",
                "    lw=0,\n",
                ")\n",
                "\n",
                "ax.semilogy(\n",
                "    np.arange(1, l_max + 1),\n",
                "    Cl_prior,\n",
                "    \"blue\",\n",
                "    label=r\"Only prior\",\n",
                ")\n",
                "\n",
                "ax.errorbar(\n",
                "    np.arange(1, l_max + 1),\n",
                "    mean_Cl_limits,\n",
                "    yerr=(err_low_Cl_limits, err_high_Cl_limits),\n",
                "    color=\"red\",\n",
                "    label=r\"Fisher\",\n",
                "    marker=\".\",\n",
                ")\n",
                "\n",
                "ax.errorbar(\n",
                "    np.arange(1, l_max + 1),\n",
                "    mean_Cl_limits_prior,\n",
                "    yerr=(err_low_Cl_limits_prior, err_high_Cl_limits_prior),\n",
                "    color=\"grey\",\n",
                "    label=r\"Fisher with prior\",\n",
                "    marker=\".\",\n",
                ")\n",
                "\n",
                "\n",
                "plt.legend(loc=\"lower right\", fontsize=10, handlelength=1.5)\n",
                "props = dict(\n",
                "    boxstyle=\"round\",\n",
                "    facecolor=\"white\",\n",
                "    alpha=1,\n",
                "    linewidth=1,\n",
                "    edgecolor=\"0.8\",\n",
                ")\n",
                "\n",
                "for axis in [\"top\", \"bottom\", \"left\", \"right\"]:\n",
                "    ax.spines[axis].set_linewidth(0.5)\n",
                "\n",
                "    ax.text(\n",
                "        1,\n",
                "        4.8e0,\n",
                "        r\"NANOGrav positions, $T_\\mathrm{obs} \\sim 15 \\, \\mathrm{yr}$\",\n",
                "        horizontalalignment=\"left\",\n",
                "        fontsize=10,\n",
                "        verticalalignment=\"top\",\n",
                "        bbox=props,\n",
                "        linespacing=1.4,\n",
                "    )\n",
                "\n",
                "    # set x axis label\n",
                "    ax.set_xlabel(r\"$\\ell$\")\n",
                "    ax.set_ylabel(r\"$C_\\ell / C_0$\")\n",
                "    plt.ylim(0.8e-1, 6e0)\n",
                "\n",
                "    plt.tight_layout()\n",
                "    plt.savefig(\"plots/Cl_sens_lim_ng_like.pdf\")"
            ]
        }
    ],
    "metadata": {
        "kernelspec": {
            "display_name": "3.10.8",
            "language": "python",
            "name": "python3"
        },
        "language_info": {
            "codemirror_mode": {
                "name": "ipython",
                "version": 3
            },
            "file_extension": ".py",
            "mimetype": "text/x-python",
            "name": "python",
            "nbconvert_exporter": "python",
            "pygments_lexer": "ipython3",
            "version": "3.10.8"
        }
    },
    "nbformat": 4,
    "nbformat_minor": 2
}
