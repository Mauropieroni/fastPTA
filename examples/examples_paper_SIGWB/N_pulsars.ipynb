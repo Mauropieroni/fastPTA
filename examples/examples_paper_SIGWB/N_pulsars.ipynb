{
    "cells": [
        {
            "cell_type": "markdown",
            "metadata": {},
            "source": [
                "# This notebook reproduces the plots in Fig. 5 of 2503.10805"
            ]
        },
        {
            "cell_type": "markdown",
            "metadata": {},
            "source": [
                "### - Start importing libraries"
            ]
        },
        {
            "cell_type": "code",
            "execution_count": 1,
            "metadata": {},
            "outputs": [],
            "source": [
                "# Global\n",
                "import sys\n",
                "import tqdm\n",
                "import jax.numpy as jnp\n",
                "import numpy as np\n",
                "import matplotlib.pyplot as plt\n",
                "\n",
                "sys.path.append(\"../\")\n",
                "\n",
                "# Local\n",
                "import examples_utils as eu\n",
                "import fastPTA.utils as ut\n",
                "from fastPTA.plotting_functions import my_colormap\n",
                "from fastPTA.Fisher_code import compute_fisher\n",
                "from fastPTA.signals import get_signal_model"
            ]
        },
        {
            "cell_type": "markdown",
            "metadata": {},
            "source": [
                "### - Constants to be used in the analysis"
            ]
        },
        {
            "cell_type": "code",
            "execution_count": null,
            "metadata": {},
            "outputs": [],
            "source": [
                "# Total observation time in years\n",
                "T_obs_yrs = 10.33\n",
                "\n",
                "# Number of frequencies used in the analysis\n",
                "n_frequencies = 100\n",
                "\n",
                "# Specify the type of noise to be used in the analysis\n",
                "which_experiment = eu.EPTAlike\n",
                "which_experiment_label = \"EPTA\"\n",
                "\n",
                "# Set the label to specify the signal model\n",
                "signal_label = \"power_law_SIGW\"\n",
                "\n",
                "# Current SMBBH SGWB best-fit paramteres\n",
                "SMBBH_log_amplitude = -7.1995\n",
                "SMBBH_tilt = 2\n",
                "\n",
                "# Define the range of values for the SMBBH log-amplitude\n",
                "vals = np.array([-7.9, -7.6, -7, -6.8])\n",
                "\n",
                "\n",
                "# The analysis assumes a SIGW template, specify here the input parameters\n",
                "SIGW_log_amplitude = -1.7\n",
                "SIGW_log_width = np.log10(0.5)\n",
                "SIGW_log_pivot = -7.8\n",
                "\n",
                "# Specify the true signal parameters\n",
                "SMBBH_parameters = jnp.array([SMBBH_log_amplitude, SMBBH_tilt])\n",
                "\n",
                "CGW_SIGW_parameters = jnp.array(\n",
                "    [SIGW_log_amplitude, SIGW_log_width, SIGW_log_pivot]\n",
                ")\n",
                "\n",
                "signal_parameters = np.concatenate([SMBBH_parameters, CGW_SIGW_parameters])\n",
                "\n",
                "# Specify the labels for the signal parameters\n",
                "parameter_labels = []\n",
                "\n",
                "# Flag to regenerate all the data\n",
                "regenerate_data = False\n",
                "\n",
                "# Define a vector of N_pulsar\n",
                "pulsar_range = np.unique(np.geomspace(25, 500, 20, dtype=int))\n",
                "\n",
                "# Number of realizations to use in the Fisher analysis\n",
                "n_realizations = 10"
            ]
        },
        {
            "cell_type": "markdown",
            "metadata": {},
            "source": [
                "### - Set the inputs for the Fisher analysis"
            ]
        },
        {
            "cell_type": "code",
            "execution_count": null,
            "metadata": {},
            "outputs": [],
            "source": [
                "# Get the signal model\n",
                "signal_model = get_signal_model(signal_label)\n",
                "\n",
                "# Dictionary with the kwargs for generate catalog\n",
                "generate_catalog_kwargs = {\n",
                "    \"n_pulsars\": 10,\n",
                "    \"save_catalog\": False,\n",
                "    **which_experiment,\n",
                "}\n",
                "\n",
                "# Dictionary with the kwargs to get_tensors\n",
                "get_tensors_kwargs = {\n",
                "    \"add_curn\": False,\n",
                "    \"regenerate_catalog\": True,\n",
                "    \"path_to_pulsar_catalog\": \"pulsar_configurations/EPTA.txt\",\n",
                "}\n",
                "\n",
                "# Dictionary with the kwargs for the Fisher matrix\n",
                "fisher_kwargs = {\n",
                "    \"T_obs_yrs\": T_obs_yrs,\n",
                "    \"n_frequencies\": n_frequencies,\n",
                "    \"signal_model\": signal_model,\n",
                "    \"signal_parameters\": signal_parameters,\n",
                "}"
            ]
        },
        {
            "cell_type": "markdown",
            "metadata": {},
            "source": [
                "### - Compute Fisher errors for 10 realizations, varying  $N_p$.  <br /> NB with current settings a run can take order 20 minutes"
            ]
        },
        {
            "cell_type": "code",
            "execution_count": 6,
            "metadata": {},
            "outputs": [
                {
                    "name": "stdout",
                    "output_type": "stream",
                    "text": [
                        "At this step number of pulsars:  25\n"
                    ]
                },
                {
                    "name": "stderr",
                    "output_type": "stream",
                    "text": [
                        "100%|██████████| 4/4 [00:07<00:00,  1.79s/it]\n"
                    ]
                },
                {
                    "name": "stdout",
                    "output_type": "stream",
                    "text": [
                        "At this step number of pulsars:  29\n"
                    ]
                },
                {
                    "name": "stderr",
                    "output_type": "stream",
                    "text": [
                        "100%|██████████| 4/4 [00:08<00:00,  2.11s/it]\n"
                    ]
                },
                {
                    "name": "stdout",
                    "output_type": "stream",
                    "text": [
                        "At this step number of pulsars:  34\n"
                    ]
                },
                {
                    "name": "stderr",
                    "output_type": "stream",
                    "text": [
                        "100%|██████████| 4/4 [00:09<00:00,  2.25s/it]\n"
                    ]
                },
                {
                    "name": "stdout",
                    "output_type": "stream",
                    "text": [
                        "At this step number of pulsars:  40\n"
                    ]
                },
                {
                    "name": "stderr",
                    "output_type": "stream",
                    "text": [
                        "100%|██████████| 4/4 [00:09<00:00,  2.46s/it]\n"
                    ]
                },
                {
                    "name": "stdout",
                    "output_type": "stream",
                    "text": [
                        "At this step number of pulsars:  46\n"
                    ]
                },
                {
                    "name": "stderr",
                    "output_type": "stream",
                    "text": [
                        "100%|██████████| 4/4 [00:11<00:00,  2.79s/it]\n"
                    ]
                },
                {
                    "name": "stdout",
                    "output_type": "stream",
                    "text": [
                        "At this step number of pulsars:  54\n"
                    ]
                },
                {
                    "name": "stderr",
                    "output_type": "stream",
                    "text": [
                        "100%|██████████| 4/4 [00:14<00:00,  3.51s/it]\n"
                    ]
                },
                {
                    "name": "stdout",
                    "output_type": "stream",
                    "text": [
                        "At this step number of pulsars:  64\n"
                    ]
                },
                {
                    "name": "stderr",
                    "output_type": "stream",
                    "text": [
                        "100%|██████████| 4/4 [00:16<00:00,  4.20s/it]\n"
                    ]
                },
                {
                    "name": "stdout",
                    "output_type": "stream",
                    "text": [
                        "At this step number of pulsars:  75\n"
                    ]
                },
                {
                    "name": "stderr",
                    "output_type": "stream",
                    "text": [
                        "100%|██████████| 4/4 [00:20<00:00,  5.16s/it]\n"
                    ]
                },
                {
                    "name": "stdout",
                    "output_type": "stream",
                    "text": [
                        "At this step number of pulsars:  88\n"
                    ]
                },
                {
                    "name": "stderr",
                    "output_type": "stream",
                    "text": [
                        "100%|██████████| 4/4 [00:22<00:00,  5.75s/it]\n"
                    ]
                },
                {
                    "name": "stdout",
                    "output_type": "stream",
                    "text": [
                        "At this step number of pulsars:  103\n"
                    ]
                },
                {
                    "name": "stderr",
                    "output_type": "stream",
                    "text": [
                        "100%|██████████| 4/4 [00:30<00:00,  7.50s/it]\n"
                    ]
                },
                {
                    "name": "stdout",
                    "output_type": "stream",
                    "text": [
                        "At this step number of pulsars:  120\n"
                    ]
                },
                {
                    "name": "stderr",
                    "output_type": "stream",
                    "text": [
                        "100%|██████████| 4/4 [00:36<00:00,  9.13s/it]\n"
                    ]
                },
                {
                    "name": "stdout",
                    "output_type": "stream",
                    "text": [
                        "At this step number of pulsars:  141\n"
                    ]
                },
                {
                    "name": "stderr",
                    "output_type": "stream",
                    "text": [
                        "100%|██████████| 4/4 [01:05<00:00, 16.41s/it]\n"
                    ]
                },
                {
                    "name": "stdout",
                    "output_type": "stream",
                    "text": [
                        "At this step number of pulsars:  165\n"
                    ]
                },
                {
                    "name": "stderr",
                    "output_type": "stream",
                    "text": [
                        "100%|██████████| 4/4 [01:07<00:00, 16.84s/it]\n"
                    ]
                },
                {
                    "name": "stdout",
                    "output_type": "stream",
                    "text": [
                        "At this step number of pulsars:  194\n"
                    ]
                },
                {
                    "name": "stderr",
                    "output_type": "stream",
                    "text": [
                        "100%|██████████| 4/4 [01:19<00:00, 19.86s/it]\n"
                    ]
                },
                {
                    "name": "stdout",
                    "output_type": "stream",
                    "text": [
                        "At this step number of pulsars:  227\n"
                    ]
                },
                {
                    "name": "stderr",
                    "output_type": "stream",
                    "text": [
                        "100%|██████████| 4/4 [01:26<00:00, 21.60s/it]\n"
                    ]
                },
                {
                    "name": "stdout",
                    "output_type": "stream",
                    "text": [
                        "At this step number of pulsars:  266\n"
                    ]
                },
                {
                    "name": "stderr",
                    "output_type": "stream",
                    "text": [
                        "100%|██████████| 4/4 [02:36<00:00, 39.01s/it]\n"
                    ]
                },
                {
                    "name": "stdout",
                    "output_type": "stream",
                    "text": [
                        "At this step number of pulsars:  311\n"
                    ]
                },
                {
                    "name": "stderr",
                    "output_type": "stream",
                    "text": [
                        "100%|██████████| 4/4 [02:48<00:00, 42.21s/it]\n"
                    ]
                },
                {
                    "name": "stdout",
                    "output_type": "stream",
                    "text": [
                        "At this step number of pulsars:  364\n"
                    ]
                },
                {
                    "name": "stderr",
                    "output_type": "stream",
                    "text": [
                        "100%|██████████| 4/4 [03:17<00:00, 49.29s/it]\n"
                    ]
                },
                {
                    "name": "stdout",
                    "output_type": "stream",
                    "text": [
                        "At this step number of pulsars:  427\n"
                    ]
                },
                {
                    "name": "stderr",
                    "output_type": "stream",
                    "text": [
                        "100%|██████████| 4/4 [05:14<00:00, 78.65s/it]\n"
                    ]
                },
                {
                    "name": "stdout",
                    "output_type": "stream",
                    "text": [
                        "At this step number of pulsars:  500\n"
                    ]
                },
                {
                    "name": "stderr",
                    "output_type": "stream",
                    "text": [
                        "100%|██████████| 4/4 [05:38<00:00, 84.74s/it] \n"
                    ]
                }
            ],
            "source": [
                "try:\n",
                "    if regenerate_data:\n",
                "        raise FileNotFoundError\n",
                "    file = np.load(\n",
                "        \"generated_data/Fisher_errors_\" + which_experiment_label + \".npz\"\n",
                "    )\n",
                "    fisher_errors = file[\"fisher_errors\"]\n",
                "\n",
                "except FileNotFoundError:\n",
                "\n",
                "    # Initialize the arrays to store the Fisher matrix results\n",
                "    fisher_errors = np.zeros(\n",
                "        shape=(\n",
                "            len(vals),\n",
                "            n_realizations,\n",
                "            len(pulsar_range),\n",
                "            len(signal_model.parameter_names),\n",
                "        )\n",
                "    )\n",
                "\n",
                "    for j in range(len(pulsar_range)):\n",
                "        print(\"At this step number of pulsars: \", pulsar_range[j])\n",
                "\n",
                "        # Set the number of pulsars in the catalog\n",
                "        generate_catalog_kwargs[\"n_pulsars\"] = pulsar_range[j]\n",
                "\n",
                "        for k in tqdm.tqdm(range(len(vals))):\n",
                "            # Take the right value for alpha_PL\n",
                "            fisher_kwargs[\"signal_parameters\"][0] = vals[k]\n",
                "\n",
                "            for i in range(n_realizations):\n",
                "\n",
                "                # Compute the Fisher matrix\n",
                "                (\n",
                "                    frequency,\n",
                "                    signal,\n",
                "                    HD_functions_IJ,\n",
                "                    HD_coeffs,\n",
                "                    effective_noise,\n",
                "                    SNR,\n",
                "                    fisher,\n",
                "                ) = compute_fisher(\n",
                "                    **fisher_kwargs,\n",
                "                    get_tensors_kwargs=get_tensors_kwargs,\n",
                "                    generate_catalog_kwargs=generate_catalog_kwargs,\n",
                "                )\n",
                "\n",
                "                fisher_errors[k, i, j, :] = np.sqrt(\n",
                "                    np.diag(ut.compute_inverse(fisher))\n",
                "                )\n",
                "\n",
                "    np.savez(\n",
                "        \"generated_data/Fisher_errors_\" + which_experiment_label + \".npz\",\n",
                "        fisher_errors=fisher_errors,\n",
                "    )"
            ]
        },
        {
            "cell_type": "markdown",
            "metadata": {},
            "source": [
                "### - Average over different realizations"
            ]
        },
        {
            "cell_type": "code",
            "execution_count": 7,
            "metadata": {},
            "outputs": [],
            "source": [
                "means = np.mean(fisher_errors, axis=1)\n",
                "stds = np.std(fisher_errors, axis=1)"
            ]
        },
        {
            "cell_type": "markdown",
            "metadata": {},
            "source": [
                "### - Plot the results for a given parameter"
            ]
        },
        {
            "cell_type": "code",
            "execution_count": 13,
            "metadata": {},
            "outputs": [
                {
                    "data": {
                        "image/png": "[encoded data removed]",
                        "text/plain": [
                            "<Figure size 700x600 with 1 Axes>"
                        ]
                    },
                    "metadata": {},
                    "output_type": "display_data"
                }
            ],
            "source": [
                "# Choose the parameter you want to plot (0 to 5 for SIGW+PL)\n",
                "parameter_index = 0\n",
                "\n",
                "if not parameter_labels:\n",
                "    parameter_labels = signal_model.parameter_labels\n",
                "\n",
                "colors = [\n",
                "    my_colormap[\"green\"],\n",
                "    my_colormap[\"red\"],\n",
                "    my_colormap[\"purple\"],\n",
                "    my_colormap[\"yellow\"],\n",
                "    my_colormap[\"blue\"],\n",
                "]\n",
                "\n",
                "fig = plt.figure(figsize=(7, 6))\n",
                "fig.subplots_adjust(\n",
                "    left=0.133, bottom=0.123, right=0.98, top=0.97, wspace=None, hspace=None\n",
                ")\n",
                "plt.rcParams[\"text.usetex\"] = True\n",
                "plt.rcParams[\"font.family\"] = \"serif\"\n",
                "plt.rcParams[\"font.size\"] = \"22\"\n",
                "plt.errorbar(\n",
                "    pulsar_range,\n",
                "    means[2, :, parameter_index],\n",
                "    stds[2, :, parameter_index],\n",
                "    label=parameter_labels[parameter_index],\n",
                "    marker=\"o\",\n",
                "    linestyle=\"solid\",\n",
                "    linewidth=1,\n",
                "    markersize=3,\n",
                "    capsize=1.5,\n",
                "    color=colors[parameter_index],\n",
                ")\n",
                "plt.errorbar(\n",
                "    pulsar_range,\n",
                "    means[1, :, parameter_index],\n",
                "    stds[1, :, parameter_index],\n",
                "    marker=\"o\",\n",
                "    linestyle=(6, (10, 10)),\n",
                "    linewidth=1,\n",
                "    markersize=3,\n",
                "    capsize=1.5,\n",
                "    color=colors[parameter_index],\n",
                ")\n",
                "plt.fill_between(\n",
                "    pulsar_range,\n",
                "    means[1, :, parameter_index],\n",
                "    means[2, :, parameter_index],\n",
                "    color=colors[parameter_index],\n",
                "    alpha=0.5,\n",
                ")\n",
                "plt.errorbar(\n",
                "    pulsar_range,\n",
                "    means[3, :, parameter_index],\n",
                "    stds[3, :, parameter_index],\n",
                "    marker=\"o\",\n",
                "    linestyle=\"solid\",\n",
                "    linewidth=1,\n",
                "    markersize=3,\n",
                "    capsize=1.5,\n",
                "    color=colors[parameter_index],\n",
                ")\n",
                "plt.errorbar(\n",
                "    pulsar_range,\n",
                "    means[0, :, parameter_index],\n",
                "    stds[0, :, parameter_index],\n",
                "    marker=\"o\",\n",
                "    linestyle=(8, (10, 10)),\n",
                "    linewidth=1,\n",
                "    markersize=3,\n",
                "    capsize=1.5,\n",
                "    color=colors[parameter_index],\n",
                ")\n",
                "plt.fill_between(\n",
                "    pulsar_range,\n",
                "    means[3, :, parameter_index],\n",
                "    means[0, :, parameter_index],\n",
                "    color=colors[parameter_index],\n",
                "    alpha=0.2,\n",
                ")\n",
                "\n",
                "plt.legend(loc=\"center left\", bbox_to_anchor=(0.6, 0.85), prop={\"size\": 15})\n",
                "plt.xlabel(\"$N_{p}$\", fontsize=22)\n",
                "plt.ylabel(\"Uncertainties\", fontsize=22)\n",
                "plt.xscale(\"log\")\n",
                "plt.yscale(\"log\")\n",
                "plt.xlim(23, 550)\n",
                "plt.show()"
            ]
        },
        {
            "cell_type": "code",
            "execution_count": null,
            "metadata": {},
            "outputs": [],
            "source": []
        }
    ],
    "metadata": {
        "kernelspec": {
            "display_name": "3.10.8",
            "language": "python",
            "name": "python3"
        },
        "language_info": {
            "codemirror_mode": {
                "name": "ipython",
                "version": 3
            },
            "file_extension": ".py",
            "mimetype": "text/x-python",
            "name": "python",
            "nbconvert_exporter": "python",
            "pygments_lexer": "ipython3",
            "version": "3.10.8"
        }
    },
    "nbformat": 4,
    "nbformat_minor": 2
}
