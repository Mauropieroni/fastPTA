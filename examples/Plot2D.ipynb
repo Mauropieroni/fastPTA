{
 "cells": [
  {
   "cell_type": "markdown",
   "metadata": {},
   "source": [
    "## Start importing libraries"
   ]
  },
  {
   "cell_type": "code",
   "execution_count": 1,
   "metadata": {},
   "outputs": [],
   "source": [
    "# Global\n",
    "import tqdm\n",
    "import numpy as np\n",
    "import matplotlib.pyplot as plt\n",
    "\n",
    "# Local\n",
    "import examples_utils as eu\n",
    "import fastPTA.utils as ut\n",
    "from fastPTA.Fisher_code import compute_fisher\n",
    "from fastPTA.signals import get_signal_model"
   ]
  },
  {
   "cell_type": "markdown",
   "metadata": {},
   "source": [
    "## Constants to be used in the analysis"
   ]
  },
  {
   "cell_type": "code",
   "execution_count": 2,
   "metadata": {},
   "outputs": [],
   "source": [
    "# PRESENT CONFIGURATION\n",
    "# Total observation time in years\n",
    "T_obs_yrs = 16.03\n",
    "\n",
    "# Number of pulsars in the analysis\n",
    "n_pulsars = 120\n",
    "\n",
    "# Specify the type of noise to be used in the analysis\n",
    "which_experiment = eu.EPTAlike\n",
    "\n",
    "# FUTURE CONFIGURATION\n",
    "# Total observation time in years\n",
    "T_obs_yrs_future = 10.33\n",
    "\n",
    "# Number of pulsars in the analysis\n",
    "n_pulsars_future = 200\n",
    "\n",
    "# Specify the type of noise to be used in the analysis\n",
    "which_experiment_future = eu.mockSKA10\n",
    "\n",
    "\n",
    "# Number of frequencies used in the analysis\n",
    "n_frequencies = 100\n",
    "\n",
    "# Set the label to specify the signal model\n",
    "signal_label = \"power_law_SIGW\"\n",
    "\n",
    "# Current SMBBH SGWB best-fit paramteres\n",
    "SMBBH_log_amplitude = -7.1995\n",
    "SMBBH_tilt = 2\n",
    "\n",
    "# The analysis assumes a SIGW template, specify here the input parameters\n",
    "SIGW_log_amplitude = -1.7\n",
    "SIGW_log_width = np.log10(0.5)\n",
    "SIGW_log_pivot = -8.45\n",
    "\n",
    "# Specify the true signal parameters\n",
    "SMBBH_parameters = np.array(\n",
    "    [SMBBH_log_amplitude, SMBBH_tilt]\n",
    ")\n",
    "\n",
    "CGW_SIGW_parameters = np.array(\n",
    "    [SIGW_log_amplitude, SIGW_log_width, SIGW_log_pivot]\n",
    ")\n",
    "\n",
    "s_params = np.array(np.concatenate([SMBBH_parameters, CGW_SIGW_parameters]))\n",
    "s_params_future = np.array(np.concatenate([SMBBH_parameters, CGW_SIGW_parameters]))\n",
    "\n",
    "# Specify the labels for the signal parameters\n",
    "parameter_labels = []\n",
    "\n",
    "# Specify the indices of the parameters to vary\n",
    "parameter_index1 = 3 #set 4 to vary f*\n",
    "parameter_index2 = 2\n",
    "\n",
    "# Set the ranges over which perform the scan\n",
    "n_points = 20 #larger numbers for finer grid\n",
    "parameter_range1 = np.array(np.linspace(-1, 0.5, n_points))\n",
    "parameter_range2 = np.array(np.linspace(-2.5, 0, n_points))\n",
    "\n",
    "# Paths of Fisher data \n",
    "path_to_Fisher_data = f\"Fisher_data/Fisher_{n_pulsars}_{parameter_index1}_{parameter_index2}_alphamean.npz\"\n",
    "path_to_Fisher_data_future = f\"Fisher_data/Fisher_{n_pulsars_future}_{parameter_index1}_{parameter_index2}_alphamean.npz\""
   ]
  },
  {
   "cell_type": "markdown",
   "metadata": {},
   "source": [
    "## Set the inputs for the Fisher analysis"
   ]
  },
  {
   "cell_type": "code",
   "execution_count": 3,
   "metadata": {},
   "outputs": [],
   "source": [
    "# Get the signal model\n",
    "signal_model = get_signal_model(signal_label)\n",
    "\n",
    "# Dictionaries with the kwargs to generete the pulsar catalogs\n",
    "generate_catalog_kwargs={\n",
    "            \"n_pulsars\": n_pulsars,\n",
    "            \"save_catalog\": False,\n",
    "            **which_experiment,\n",
    "        }\n",
    "\n",
    "generate_catalog_kwargs_future={\n",
    "            \"n_pulsars\": n_pulsars_future,\n",
    "            \"save_catalog\": False,\n",
    "            **which_experiment_future,\n",
    "        }\n",
    "\n",
    "# Dictionaries with the kwargs to generate noise and orf tensors\n",
    "get_tensors_kwargs={\n",
    "            \"path_to_pulsar_catalog\": \"pulsar_configurations/EPTA120.txt\",\n",
    "            \"add_curn\": False,\n",
    "            \"regenerate_catalog\": False,\n",
    "        }\n",
    "\n",
    "get_tensors_kwargs_future={\n",
    "            \"path_to_pulsar_catalog\": \"pulsar_configurations/SKA200.txt\",\n",
    "            \"add_curn\": False,\n",
    "            \"regenerate_catalog\": False,\n",
    "        }"
   ]
  },
  {
   "cell_type": "markdown",
   "metadata": {},
   "source": [
    "## Compute a Fisher matrix for each point in the grid"
   ]
  },
  {
   "cell_type": "code",
   "execution_count": 4,
   "metadata": {},
   "outputs": [],
   "source": [
    "if get_tensors_kwargs[\"regenerate_catalog\"]:\n",
    "    middle_point = int(n_points/4)\n",
    "    # Present configuration\n",
    "    results_fisher = np.zeros(shape=(len(parameter_range1), len(parameter_range2), len(s_params), len(s_params)))\n",
    "\n",
    "    for i in tqdm.tqdm(range(len(parameter_range1))):\n",
    "        s_params[parameter_index1] = parameter_range1[i]\n",
    "        for j in range(len(parameter_range2)):\n",
    "            s_params[parameter_index2] = parameter_range2[j]\n",
    "\n",
    "            fisher_kwargs = {\n",
    "                \"T_obs_yrs\": T_obs_yrs,\n",
    "                \"n_frequencies\": n_frequencies,\n",
    "                \"signal_model\": signal_model,\n",
    "                \"signal_parameters\": s_params\n",
    "            }\n",
    "            (\n",
    "                frequency,\n",
    "                signal,\n",
    "                HD_functions_IJ,\n",
    "                HD_coeffs,\n",
    "                effective_noise,\n",
    "                SNR,\n",
    "                fisher,\n",
    "            ) = compute_fisher(\n",
    "                **fisher_kwargs,\n",
    "                get_tensors_kwargs=get_tensors_kwargs,\n",
    "                generate_catalog_kwargs=generate_catalog_kwargs,\n",
    "            )\n",
    "            results_fisher[i, j] = fisher\n",
    "\n",
    "\n",
    "    # Future configuration\n",
    "    results_fisher_future = np.zeros(shape=(len(parameter_range1), len(parameter_range2), len(s_params_future), len(s_params_future)))\n",
    "\n",
    "    for i in tqdm.tqdm(range(len(parameter_range1))):\n",
    "        s_params_future[parameter_index1] = parameter_range1[i]\n",
    "        for j in range(len(parameter_range2)):\n",
    "            s_params_future[parameter_index2] = parameter_range2[j]\n",
    "            fisher_kwargs = {\n",
    "                \"T_obs_yrs\": T_obs_yrs_future,\n",
    "                \"n_frequencies\": n_frequencies,\n",
    "                \"signal_model\": signal_model,\n",
    "                \"signal_parameters\": s_params_future\n",
    "            }\n",
    "            (\n",
    "                frequency,\n",
    "                signal,\n",
    "                HD_functions_IJ,\n",
    "                HD_coeffs,\n",
    "                effective_noise,\n",
    "                SNR,\n",
    "                fisher_future,\n",
    "            ) = compute_fisher(\n",
    "                **fisher_kwargs,\n",
    "                get_tensors_kwargs=get_tensors_kwargs_future,\n",
    "                generate_catalog_kwargs=generate_catalog_kwargs_future,\n",
    "            )\n",
    "            results_fisher_future[i, j] = fisher_future\n",
    "else:\n",
    "    middle_point = 21 #for the plot \n",
    "    file = np.load(path_to_Fisher_data)\n",
    "    file_future = np.load(path_to_Fisher_data_future)\n",
    "    parameter_range1 = file[\"parameter_range1\"]\n",
    "    parameter_range2 = file[\"parameter_range2\"]\n",
    "    results_fisher = file[\"results_fisher\"]\n",
    "    results_fisher_future = file_future[\"results_fisher\"]"
   ]
  },
  {
   "cell_type": "markdown",
   "metadata": {},
   "source": [
    "## Evaluate the relative uncertainties on $A_{\\zeta}$"
   ]
  },
  {
   "cell_type": "code",
   "execution_count": 5,
   "metadata": {},
   "outputs": [],
   "source": [
    "results_amplitude = np.zeros(shape=(len(parameter_range1), len(parameter_range2)))\n",
    "results_amplitude_future = np.zeros(shape=(len(parameter_range1), len(parameter_range2)))\n",
    "\n",
    "for i in range(len(parameter_range1)):\n",
    "    for j in range(len(parameter_range2)):\n",
    "        to_invert = results_fisher[i, j] + np.diag([0, 0, 1e-2, 1e-2, 0])\n",
    "        covariance = ut.compute_inverse(to_invert)\n",
    "        results_amplitude[i, j] = np.sqrt(np.diag(covariance)[2])\n",
    "      \n",
    "results_amplitude = results_amplitude * np.log(10)\n",
    "\n",
    "for i in range(len(parameter_range1)):\n",
    "    for j in range(len(parameter_range2)):\n",
    "        to_invert = results_fisher_future[i, j] + np.diag([0, 0, 1e-2, 1e-2, 0])\n",
    "        covariance_future = ut.compute_inverse(to_invert)\n",
    "        results_amplitude_future[i, j] = np.sqrt(np.diag(covariance_future)[2]) \n",
    "\n",
    "results_amplitude_future = results_amplitude_future * np.log(10)"
   ]
  },
  {
   "cell_type": "markdown",
   "metadata": {},
   "source": [
    "## Contour plot"
   ]
  },
  {
   "cell_type": "code",
   "execution_count": 6,
   "metadata": {},
   "outputs": [
    {
     "data": {
      "image/png": "[encoded data removed]",
      "text/plain": [
       "<Figure size 700x450 with 2 Axes>"
      ]
     },
     "metadata": {},
     "output_type": "display_data"
    }
   ],
   "source": [
    "fig = plt.figure(figsize=(7, 4.5))\n",
    "plt.rcParams[\"text.usetex\"] = True\n",
    "plt.rcParams[\"font.family\"] = \"serif\"\n",
    "\n",
    "\n",
    "ax = plt.contour(parameter_range1[middle_point:], parameter_range2, np.log10(results_amplitude[middle_point:].T), levels = [-2, -1.30103, -1, -0.522879], cmap = 'YlGnBu')\n",
    "manual_locations = [(-1,0), (-0.4, -0.75), (-0.5, -1.1), (-0.5, -1.7)]\n",
    "txt_objects = plt.clabel(ax, inline = True, inline_spacing=0, fmt=\"%2.1f\", use_clabeltext=True, fontsize=15, manual = manual_locations)\n",
    "new_labels = [r'1$\\%$', r'5$\\%$', r'10$\\%$', r'30$\\%$']\n",
    "for t, l in zip(txt_objects, new_labels):\n",
    "    t.set(text=l)\n",
    "axx = plt.contour(parameter_range1[:middle_point], parameter_range2, np.log10(results_amplitude[:middle_point].T), levels = [-2, -1.30103, -1, -0.522879], cmap = 'YlGnBu')\n",
    "manual_locations_new = [(-1,0), (-1,0), (-0.9,-0.7), (-0.9, -1.1)]\n",
    "txt_objects_new = plt.clabel(axx, inline = True, inline_spacing=0, fmt=\"%2.1f\", use_clabeltext=True, fontsize=15, manual = manual_locations_new)\n",
    "for t, l in zip(txt_objects_new, new_labels):\n",
    "    t.set(text=l)\n",
    "    \n",
    "plt.contourf(parameter_range1, parameter_range2, np.log10(results_amplitude_future.T), levels = [-2, -1.30103, -1, -0.522879], cmap = 'YlGnBu', alpha=0.5) \n",
    "plt.plot(np.log10(0.5), -1.7, 'x', c=\"darkred\")\n",
    "cbar = plt.colorbar()\n",
    "cbar.set_ticklabels([r\"1$\\%$\", r\"5$\\%$\", r\"10$\\%$\", r\"30$\\%$\"], fontsize=20)\n",
    "plt.xlim(-1, 0.5)\n",
    "plt.ylim(-2.5, -0.5)\n",
    "plt.xlabel(r\"$\\log_{10}\\Delta$\", fontsize=20)\n",
    "plt.ylabel(r\"$\\log_{10}A_{\\zeta}$\", fontsize=20)\n",
    "plt.tick_params(axis='both', labelsize=20)\n",
    "plt.title(r\"Relative uncertainties $\\sigma_{A_{\\zeta}}/A_{\\zeta}$\", fontsize=20)\n",
    "plt.show()"
   ]
  }
 ],
 "metadata": {
  "kernelspec": {
   "display_name": ".venv",
   "language": "python",
   "name": "python3"
  },
  "language_info": {
   "codemirror_mode": {
    "name": "ipython",
    "version": 3
   },
   "file_extension": ".py",
   "mimetype": "text/x-python",
   "name": "python",
   "nbconvert_exporter": "python",
   "pygments_lexer": "ipython3",
   "version": "3.12.2"
  }
 },
 "nbformat": 4,
 "nbformat_minor": 2
}
