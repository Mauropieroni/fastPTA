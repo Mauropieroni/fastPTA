{
 "cells": [
  {
   "cell_type": "markdown",
   "id": "53a16fb6",
   "metadata": {},
   "source": [
    "# Get the scaling of the uncertainties with the observation time (Fig. 3 of 2404.02864)"
   ]
  },
  {
   "cell_type": "markdown",
   "id": "3d2a5638",
   "metadata": {},
   "source": [
    "### - Start importing all libraries"
   ]
  },
  {
   "cell_type": "code",
   "execution_count": 1,
   "id": "a061b9e8",
   "metadata": {},
   "outputs": [],
   "source": [
    "# Global\n",
    "import sys\n",
    "import tqdm\n",
    "import numpy as np\n",
    "import matplotlib.pyplot as plt\n",
    "\n",
    "sys.path.append('../')\n",
    "\n",
    "# Local\n",
    "import examples_utils as eu\n",
    "import fastPTA.utils as ut\n",
    "import fastPTA.plotting_functions as pf\n",
    "from fastPTA.signals import get_signal_model\n",
    "from fastPTA.Fisher_code import compute_fisher"
   ]
  },
  {
   "cell_type": "markdown",
   "id": "8c55c5d3",
   "metadata": {},
   "source": [
    "### - Constants to be used in the analysis"
   ]
  },
  {
   "cell_type": "code",
   "execution_count": 2,
   "id": "9afe1b2e",
   "metadata": {},
   "outputs": [],
   "source": [
    "# Number of frequencies used in the analysis\n",
    "n_frequencies = 30\n",
    "\n",
    "# Number of pulsars in the analysis\n",
    "n_pulsars = 50\n",
    "\n",
    "# Signal model to be used in the analysis\n",
    "signal_label = \"power_law\"\n",
    "\n",
    "# The analysis assumes a power law template, specify here the input parameters\n",
    "log_amplitude = -7.1995  # log amplitude\n",
    "tilt = 2.0  # Tilt\n",
    "\n",
    "# Parameters for the HD computations:\n",
    "# Method to compute the HD, either \"Legendre\" or \"Binned\"\n",
    "HD_basis = \"Legendre\"\n",
    "\n",
    "# Maximum order of the Legendre polynomials\n",
    "HD_order = 0\n",
    "\n",
    "# Whether to add some gaussian prior for the HD coefficients to the Fisher matrix\n",
    "add_HD_prior = False\n",
    "\n",
    "# Specify the type of noise to be used in the analysis\n",
    "which_experiment = eu.EPTAlike\n",
    "\n",
    "# Whether you want to rerun the analysis\n",
    "rerun = False\n",
    "\n",
    "# Minimum number of years to be used in the analysis\n",
    "T_min_yrs = .1\n",
    "\n",
    "# Maximum number of years to be used in the analysis\n",
    "T_max_yrs = 200\n",
    "\n",
    "# Number of points in T to scan over\n",
    "T_times = 15\n",
    "\n",
    "# Number of realizations to be generated for each value of T\n",
    "N_realizations = 10\n",
    "\n",
    "# Name of the outfile, no need for the extension\n",
    "# (will be stored in generated_data/)\n",
    "outname = \"Default\""
   ]
  },
  {
   "cell_type": "markdown",
   "id": "9130a943",
   "metadata": {},
   "source": [
    "### - Builds the dictionaries with inputs for the code"
   ]
  },
  {
   "cell_type": "code",
   "execution_count": 3,
   "id": "e1c85ecb",
   "metadata": {},
   "outputs": [],
   "source": [
    "# Get the signal model\n",
    "signal_model = get_signal_model(signal_label)\n",
    "\n",
    "# Assemble the vector with two signal parameters\n",
    "signal_parameters = np.array([log_amplitude, tilt])\n",
    "\n",
    "# Length of the parameter vector\n",
    "parameter_len = (\n",
    "    len(signal_parameters) + HD_order + 1\n",
    "    if HD_order\n",
    "    else len(signal_parameters)\n",
    ")\n",
    "\n",
    "# Dictionary with the kwargs to generete the pulsar catalogs\n",
    "default_pulsars = {\n",
    "    \"n_pulsars\": n_pulsars,\n",
    "    \"save_catalog\": False,\n",
    "    **which_experiment,\n",
    "}\n",
    "\n",
    "# Dictionary with the kwargs to generate noise and orf tensors\n",
    "get_tensors_kwargs = {\n",
    "    \"add_curn\": False,\n",
    "    \"HD_order\": HD_order,\n",
    "    \"HD_basis\": HD_basis,\n",
    "    \"regenerate_catalog\": True,\n",
    "}\n",
    "\n",
    "# Dictionary with the kwargs to generate the fisher matrix\n",
    "fisher_kwargs = {\n",
    "    \"T_obs_yrs\": 1.,\n",
    "    \"n_frequencies\": n_frequencies,\n",
    "    \"signal_parameters\": signal_parameters,\n",
    "}"
   ]
  },
  {
   "cell_type": "markdown",
   "id": "24800e4c",
   "metadata": {},
   "source": [
    "### - Check if all the folders are in place and define save_path"
   ]
  },
  {
   "cell_type": "code",
   "execution_count": 4,
   "id": "5ee5ac36",
   "metadata": {},
   "outputs": [],
   "source": [
    "# Build the save path\n",
    "if outname != \"Default\":\n",
    "    save_path = \"generated_data/\" + outname + \".npz\"\n",
    "elif HD_order == 0:\n",
    "    save_path = \"generated_data/T_scaling.npz\"\n",
    "else:\n",
    "    save_path = \"generated_data/T_scaling_HD.npz\""
   ]
  },
  {
   "cell_type": "markdown",
   "id": "9f847562",
   "metadata": {},
   "source": [
    "### - Run for all values of T_obs"
   ]
  },
  {
   "cell_type": "code",
   "execution_count": 5,
   "id": "6b9de97a",
   "metadata": {},
   "outputs": [
    {
     "name": "stdout",
     "output_type": "stream",
     "text": [
      "Here starts T = 0.10 yrs\n"
     ]
    },
    {
     "name": "stderr",
     "output_type": "stream",
     "text": [
      "100%|██████████| 10/10 [00:02<00:00,  4.59it/s]\n"
     ]
    },
    {
     "name": "stdout",
     "output_type": "stream",
     "text": [
      "SNR=1.51e-04 +-2.51e-04 \n",
      "\n",
      "Here starts T = 0.17 yrs\n"
     ]
    },
    {
     "name": "stderr",
     "output_type": "stream",
     "text": [
      "100%|██████████| 10/10 [00:00<00:00, 52.46it/s]\n"
     ]
    },
    {
     "name": "stdout",
     "output_type": "stream",
     "text": [
      "SNR=5.22e-04 +-2.68e-04 \n",
      "\n",
      "Here starts T = 0.30 yrs\n"
     ]
    },
    {
     "name": "stderr",
     "output_type": "stream",
     "text": [
      "100%|██████████| 10/10 [00:00<00:00, 33.76it/s]\n"
     ]
    },
    {
     "name": "stdout",
     "output_type": "stream",
     "text": [
      "SNR=3.96e-03 +-1.92e-03 \n",
      "\n",
      "Here starts T = 0.51 yrs\n"
     ]
    },
    {
     "name": "stderr",
     "output_type": "stream",
     "text": [
      "100%|██████████| 10/10 [00:00<00:00, 34.94it/s]\n"
     ]
    },
    {
     "name": "stdout",
     "output_type": "stream",
     "text": [
      "SNR=2.16e-02 +-1.52e-02 \n",
      "\n",
      "Here starts T = 0.88 yrs\n"
     ]
    },
    {
     "name": "stderr",
     "output_type": "stream",
     "text": [
      "100%|██████████| 10/10 [00:00<00:00, 32.00it/s]\n"
     ]
    },
    {
     "name": "stdout",
     "output_type": "stream",
     "text": [
      "SNR=1.10e-01 +-4.81e-02 \n",
      "\n",
      "Here starts T = 1.51 yrs\n"
     ]
    },
    {
     "name": "stderr",
     "output_type": "stream",
     "text": [
      "100%|██████████| 10/10 [00:01<00:00,  5.50it/s]\n"
     ]
    },
    {
     "name": "stdout",
     "output_type": "stream",
     "text": [
      "SNR=4.56e-01 +-1.23e-01 \n",
      "\n",
      "Here starts T = 2.60 yrs\n"
     ]
    },
    {
     "name": "stderr",
     "output_type": "stream",
     "text": [
      "100%|██████████| 10/10 [00:01<00:00,  6.24it/s]\n"
     ]
    },
    {
     "name": "stdout",
     "output_type": "stream",
     "text": [
      "SNR=1.27e+00 +-3.48e-01 \n",
      "\n",
      "Here starts T = 4.47 yrs\n"
     ]
    },
    {
     "name": "stderr",
     "output_type": "stream",
     "text": [
      "100%|██████████| 10/10 [00:02<00:00,  4.96it/s]\n"
     ]
    },
    {
     "name": "stdout",
     "output_type": "stream",
     "text": [
      "SNR=3.37e+00 +-6.86e-01 \n",
      "\n",
      "Here starts T = 7.70 yrs\n"
     ]
    },
    {
     "name": "stderr",
     "output_type": "stream",
     "text": [
      "100%|██████████| 10/10 [00:01<00:00,  5.59it/s]\n"
     ]
    },
    {
     "name": "stdout",
     "output_type": "stream",
     "text": [
      "SNR=5.81e+00 +-5.35e-01 \n",
      "\n",
      "Here starts T = 13.25 yrs\n"
     ]
    },
    {
     "name": "stderr",
     "output_type": "stream",
     "text": [
      "100%|██████████| 10/10 [00:01<00:00,  5.77it/s]\n"
     ]
    },
    {
     "name": "stdout",
     "output_type": "stream",
     "text": [
      "SNR=9.17e+00 +-6.30e-01 \n",
      "\n",
      "Here starts T = 22.80 yrs\n"
     ]
    },
    {
     "name": "stderr",
     "output_type": "stream",
     "text": [
      "100%|██████████| 10/10 [00:01<00:00,  5.40it/s]\n"
     ]
    },
    {
     "name": "stdout",
     "output_type": "stream",
     "text": [
      "SNR=1.33e+01 +-1.24e+00 \n",
      "\n",
      "Here starts T = 39.23 yrs\n"
     ]
    },
    {
     "name": "stderr",
     "output_type": "stream",
     "text": [
      "100%|██████████| 10/10 [00:01<00:00,  5.47it/s]\n"
     ]
    },
    {
     "name": "stdout",
     "output_type": "stream",
     "text": [
      "SNR=1.93e+01 +-1.15e+00 \n",
      "\n",
      "Here starts T = 67.52 yrs\n"
     ]
    },
    {
     "name": "stderr",
     "output_type": "stream",
     "text": [
      "100%|██████████| 10/10 [00:02<00:00,  4.86it/s]\n"
     ]
    },
    {
     "name": "stdout",
     "output_type": "stream",
     "text": [
      "SNR=2.66e+01 +-2.21e+00 \n",
      "\n",
      "Here starts T = 116.21 yrs\n"
     ]
    },
    {
     "name": "stderr",
     "output_type": "stream",
     "text": [
      "100%|██████████| 10/10 [00:02<00:00,  4.44it/s]\n"
     ]
    },
    {
     "name": "stdout",
     "output_type": "stream",
     "text": [
      "SNR=3.59e+01 +-2.08e+00 \n",
      "\n",
      "Here starts T = 200.00 yrs\n"
     ]
    },
    {
     "name": "stderr",
     "output_type": "stream",
     "text": [
      "100%|██████████| 10/10 [00:03<00:00,  3.03it/s]"
     ]
    },
    {
     "name": "stdout",
     "output_type": "stream",
     "text": [
      "SNR=4.97e+01 +-3.23e+00 \n",
      "\n"
     ]
    },
    {
     "name": "stderr",
     "output_type": "stream",
     "text": [
      "\n"
     ]
    }
   ],
   "source": [
    "try:\n",
    "    # Check if the file is there and load the data if not rerun\n",
    "    if rerun:\n",
    "        raise FileNotFoundError(\"Forcing regeneration\")\n",
    "\n",
    "    data = np.load(save_path)\n",
    "\n",
    "    T_obs_values = data[\"T_obs_values\"]\n",
    "    SNR_values = data[\"SNR_values\"]\n",
    "    parameters_uncertainties = data[\"parameters_uncertainties\"]\n",
    "\n",
    "except FileNotFoundError:\n",
    "\n",
    "    # Define the vector with the values of T_obs to scan over\n",
    "    T_obs_values = np.geomspace(T_min_yrs, T_max_yrs, T_times)\n",
    "\n",
    "    # Initialize the arrays to store the results\n",
    "    SNR_values = np.zeros(shape=(T_times, N_realizations))\n",
    "    parameters_uncertainties = np.zeros(\n",
    "        shape=(T_times, N_realizations, parameter_len)\n",
    "    )\n",
    "\n",
    "    # Loop over the values of T_obs\n",
    "    for i in range(T_times):\n",
    "        # Set the value of T_obs\n",
    "        generate_catalog_kwargs = default_pulsars.copy()\n",
    "        generate_catalog_kwargs[\"T_span_dict\"] = {\n",
    "            \"which_distribution\": \"gaussian\",\n",
    "            \"mean\": np.log10(T_obs_values[i]),\n",
    "            \"std\": 0.0125,\n",
    "        }\n",
    "\n",
    "        fisher_kwargs[\"T_obs_yrs\"] = T_obs_values[i]\n",
    "        fisher_kwargs[\"n_frequencies\"] = n_frequencies + int(T_obs_values[i])\n",
    "\n",
    "        # Compute the fisher for all the realizations at a given T_obs\n",
    "        print(\"Here starts T = %.2f yrs\" % (T_obs_values[i]))\n",
    "        for j in tqdm.tqdm(range(N_realizations)):\n",
    "            (\n",
    "                frequency,\n",
    "                signal,\n",
    "                HD_functions_IJ,\n",
    "                HD_coeffs,\n",
    "                effective_noise,\n",
    "                SNR,\n",
    "                fisher,\n",
    "            ) = compute_fisher(\n",
    "                **fisher_kwargs,\n",
    "                get_tensors_kwargs=get_tensors_kwargs,\n",
    "                generate_catalog_kwargs=generate_catalog_kwargs,\n",
    "            )\n",
    "\n",
    "            if HD_order and add_HD_prior:\n",
    "                fisher += np.diag(\n",
    "                    np.append(\n",
    "                        np.zeros(len(signal_parameters)), np.ones(HD_order + 1)\n",
    "                    )\n",
    "                )\n",
    "\n",
    "            # Get covariance matrix and errors\n",
    "            c_inverse = ut.compute_inverse(fisher)\n",
    "            errors = np.sqrt(np.diag(c_inverse))\n",
    "\n",
    "            # Store the results\n",
    "            SNR_values[i, j] = SNR\n",
    "            parameters_uncertainties[i, j] = errors\n",
    "\n",
    "        SNR_mean = np.mean(SNR_values[i], axis=-1)\n",
    "        SNR_std = np.std(SNR_values[i], axis=-1)\n",
    "        print(\"SNR=%.2e +-%.2e \\n\" % (SNR_mean, SNR_std))\n",
    "\n",
    "    to_save = {\n",
    "        \"T_obs_values\": T_obs_values,\n",
    "        \"SNR_values\": SNR_values,\n",
    "        \"parameters_uncertainties\": parameters_uncertainties,\n",
    "    }\n",
    "\n",
    "    np.savez(save_path, **to_save)"
   ]
  },
  {
   "cell_type": "markdown",
   "id": "7542705d",
   "metadata": {},
   "source": [
    "### - Compute means and stds"
   ]
  },
  {
   "cell_type": "code",
   "execution_count": 6,
   "id": "cc04418c",
   "metadata": {},
   "outputs": [],
   "source": [
    "# Mean and std of the SNR over the realizations\n",
    "SNR_mean = np.mean(SNR_values, axis=-1)\n",
    "SNR_std = np.std(SNR_values, axis=-1)\n",
    "\n",
    "# Mean and std of the uncertainties over the realizations\n",
    "uncertainties_means = np.mean(parameters_uncertainties, axis=1)\n",
    "uncertainties_stds = np.std(parameters_uncertainties, axis=1)"
   ]
  },
  {
   "cell_type": "markdown",
   "id": "65963783",
   "metadata": {},
   "source": [
    "### - Plot the scaling of SNR with T_obs"
   ]
  },
  {
   "cell_type": "code",
   "execution_count": 7,
   "id": "c67b6dfe",
   "metadata": {},
   "outputs": [
    {
     "data": {
      "image/png": "[encoded data removed]",
      "text/plain": [
       "<Figure size 800x500 with 1 Axes>"
      ]
     },
     "metadata": {},
     "output_type": "display_data"
    }
   ],
   "source": [
    "plt.figure(figsize=(8, 5))\n",
    "\n",
    "plt.errorbar(\n",
    "    T_obs_values,\n",
    "    SNR_mean,\n",
    "    yerr=SNR_std,\n",
    "    color=pf.my_colormap[\"cyan\"],\n",
    "    fmt=\"o\",\n",
    "    markersize=4,\n",
    "    linestyle=\"dashed\",\n",
    "    capsize=7,\n",
    ")\n",
    "\n",
    "# plot x**3\n",
    "plt.loglog(T_obs_values, 0.1 * T_obs_values**3, linestyle=\"--\", color=\"black\")\n",
    "plt.text(1, 5e-3, s=r\"$\\propto T^3$\", fontsize=15)\n",
    "\n",
    "# plot x**(1/2)\n",
    "plt.loglog(T_obs_values, 4 * T_obs_values**0.5, linestyle=\"--\", color=\"black\")\n",
    "plt.text(30, 1.5, s=r\"$\\propto \\sqrt{T}$\", fontsize=15)\n",
    "\n",
    "plt.xlabel(r\"$T_{\\rm obs} \\rm [yr]$\")\n",
    "plt.ylabel(r\"$\\rm SNR$\")\n",
    "plt.ylim(5e-6, 1e2)\n",
    "plt.tight_layout()\n",
    "plt.savefig(\"plots/SNR_T_scaling.pdf\")"
   ]
  },
  {
   "cell_type": "markdown",
   "id": "3f74d4ce",
   "metadata": {},
   "source": [
    "### - Plot the scaling of uncertainties on the SGWB shape parameters with T_obs"
   ]
  },
  {
   "cell_type": "code",
   "execution_count": 13,
   "id": "25846831",
   "metadata": {},
   "outputs": [
    {
     "data": {
      "image/png": "[encoded data removed]",
      "text/plain": [
       "<Figure size 800x500 with 1 Axes>"
      ]
     },
     "metadata": {},
     "output_type": "display_data"
    }
   ],
   "source": [
    "plt.figure(figsize=(8, 5))\n",
    "for i in range(len(signal_parameters)):\n",
    "    colors = list(pf.my_colormap.keys())\n",
    "    col = colors[np.mod(i, len(colors))]\n",
    "    plt.errorbar(\n",
    "        T_obs_values,\n",
    "        uncertainties_means[:, i],\n",
    "        yerr=uncertainties_stds[:, i],\n",
    "        color=col,\n",
    "        fmt=\"o\",\n",
    "        markersize=4,\n",
    "        linestyle=\"dashed\",\n",
    "        capsize=7,\n",
    "        label=signal_model.parameter_labels[i],\n",
    "    )\n",
    "\n",
    "plt.loglog(\n",
    "    T_obs_values,\n",
    "    100 / T_obs_values**3,\n",
    "    linestyle=\"--\",\n",
    "    color=\"black\",\n",
    ")\n",
    "\n",
    "plt.text(0.5, 1e4, s=r\"$\\propto 1/T^3$\", fontsize=15)\n",
    "\n",
    "plt.loglog(\n",
    "    T_obs_values,\n",
    "    0.25 / T_obs_values ** (1 / 2),\n",
    "    linestyle=\"--\",\n",
    "    color=\"black\",\n",
    ")\n",
    "\n",
    "plt.text(30, 1, s=r\"$\\propto 1/\\sqrt{T}$\", fontsize=15)\n",
    "\n",
    "plt.xlabel(r\"$T_{\\rm obs} \\rm [yr]$\")\n",
    "plt.ylabel(r\"$\\rm Uncertainties$\")\n",
    "plt.ylim(5e-3, 1e6)\n",
    "plt.legend(fontsize=15)\n",
    "plt.tight_layout()\n",
    "plt.savefig(\"plots/Error_T_scaling.pdf\")"
   ]
  }
 ],
 "metadata": {
  "kernelspec": {
   "display_name": "3.10.8",
   "language": "python",
   "name": "python3"
  },
  "language_info": {
   "codemirror_mode": {
    "name": "ipython",
    "version": 3
   },
   "file_extension": ".py",
   "mimetype": "text/x-python",
   "name": "python",
   "nbconvert_exporter": "python",
   "pygments_lexer": "ipython3",
   "version": "3.10.8"
  }
 },
 "nbformat": 4,
 "nbformat_minor": 5
}
