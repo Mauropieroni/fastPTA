{
 "cells": [
  {
   "cell_type": "markdown",
   "metadata": {},
   "source": [
    "# This plot will compute the fisher matrix, run an MCMC, and compare the results for a configuration similar to EPTA "
   ]
  },
  {
   "cell_type": "markdown",
   "metadata": {},
   "source": [
    "### - Start importing all libraries"
   ]
  },
  {
   "cell_type": "code",
   "execution_count": 9,
   "metadata": {},
   "outputs": [],
   "source": [
    "# Global\n",
    "import sys\n",
    "import numpy as np\n",
    "\n",
    "sys.path.append('../')\n",
    "\n",
    "# Local\n",
    "import examples_utils as eu\n",
    "import fastPTA.utils as ut\n",
    "import fastPTA.plotting_functions as pf\n",
    "\n",
    "from fastPTA.priors import Priors\n",
    "from fastPTA.signals import get_signal_model\n",
    "from fastPTA.Fisher_code import compute_fisher\n",
    "from fastPTA.MCMC_code import run_MCMC"
   ]
  },
  {
   "cell_type": "markdown",
   "metadata": {},
   "source": [
    "### - Constants to be used in the analysis"
   ]
  },
  {
   "cell_type": "code",
   "execution_count": 10,
   "metadata": {},
   "outputs": [],
   "source": [
    "# Total observation time in years\n",
    "T_obs_yrs = 16.03\n",
    "\n",
    "# Number of frequencies used in the analysis\n",
    "n_frequencies = 30\n",
    "\n",
    "# Number of pulsars in the analysis\n",
    "n_pulsars = 25\n",
    "\n",
    "# Specify the type of noise to be used in the analysis\n",
    "which_experiment = eu.EPTAlike\n",
    "\n",
    "# Set the label to specify the signal model\n",
    "signal_label = \"power_law\"\n",
    "\n",
    "# The analysis assumes a power law template, specify here the input parameters\n",
    "log_amplitude = -7.1995  # log amplitude\n",
    "tilt = 2.0  # Tilt\n",
    "\n",
    "# Specify the true signal parameters\n",
    "signal_parameters = np.array([log_amplitude, tilt])\n",
    "\n",
    "# Specify the labels for the signal parameters, if not specified it will use\n",
    "# the default labels from the signal model\n",
    "parameter_labels = [r\"$\\alpha_{\\rm PL}$\", r\"$n_{\\rm T}$\"]\n",
    "\n",
    "# Specify the priors for the signal parameters (should be a dictionary, the\n",
    "# parameter names are the keys and the values are the dictionaries with the\n",
    "# prior information) if not specfied here will build from fisher results\n",
    "priors_dictionary = {\n",
    "    \"log_amplitude\": {\"uniform\": {\"loc\": -8.5, \"scale\": 3.0}},\n",
    "    \"tilt\": {\"uniform\": {\"loc\": 1.0, \"scale\": 2.0}},\n",
    "}\n",
    "\n",
    "# Number of points to generate for the Fisher\n",
    "len_fisher_data = int(1e4)\n",
    "\n",
    "# Name of the pulsar catalogue\n",
    "outname = \"pulsar_configurations/SKA200_MCMC.txt\""
   ]
  },
  {
   "cell_type": "markdown",
   "metadata": {},
   "source": [
    "### - Some inputs for the MCMC"
   ]
  },
  {
   "cell_type": "code",
   "execution_count": 11,
   "metadata": {},
   "outputs": [],
   "source": [
    "# Whether the MCMC should be rerun\n",
    "rerun_MCMC = True\n",
    "\n",
    "# Whether the MCMC data should be regenerated\n",
    "regenerate_MCMC_data = True\n",
    "\n",
    "# Whether to generate a data realization or take data at face value\n",
    "realization = False\n",
    "\n",
    "# Number of burnin steps for the MCMC\n",
    "burnin_steps_default = 300\n",
    "\n",
    "# Maximum number of iterations to get R close to 1\n",
    "i_max_default = 100\n",
    "\n",
    "# Accepted value for the Gellman-Rubin convergence criterion\n",
    "R_convergence_default = 1e-1\n",
    "\n",
    "# Criterion to be used for the convergence of the MCMC chains\n",
    "R_criterion_default = \"mean_squared\"\n",
    "\n",
    "# Number of MCMC steps in each iteration\n",
    "MCMC_iteration_steps_default = 500\n",
    "\n",
    "# Path to the MCCM_data\n",
    "path_to_MCMC_data = \"generated_data/MCMC_data.npz\"\n",
    "\n",
    "# Path to the MCMC chains\n",
    "path_to_MCMC_chains = \"generated_chains/MCMC_chains.npz\""
   ]
  },
  {
   "cell_type": "markdown",
   "metadata": {},
   "source": [
    "### - Set the inputs for the Fisher and MCMC analysis"
   ]
  },
  {
   "cell_type": "code",
   "execution_count": 12,
   "metadata": {},
   "outputs": [],
   "source": [
    "# Get the signal model\n",
    "signal_model = get_signal_model(signal_label)\n",
    "\n",
    "# Dictionary with the kwargs to generete the pulsar catalogs\n",
    "generate_catalog_kwargs = {\n",
    "    \"n_pulsars\": n_pulsars,\n",
    "    \"save_catalog\": True,\n",
    "    **which_experiment,\n",
    "}\n",
    "\n",
    "# Dictionary with the kwargs to generate noise and orf tensors\n",
    "get_tensors_kwargs = {\n",
    "    \"add_curn\": False,\n",
    "    \"regenerate_catalog\": True,\n",
    "    \"path_to_pulsar_catalog\": outname,\n",
    "}\n",
    "\n",
    "# Dictionary with the kwargs for the Fisher matrix\n",
    "fisher_kwargs = {\n",
    "    \"T_obs_yrs\": T_obs_yrs,\n",
    "    \"n_frequencies\": n_frequencies,\n",
    "    \"signal_model\": signal_model,\n",
    "    \"signal_parameters\": signal_parameters,\n",
    "}\n",
    "\n",
    "# Dictionary with the kwargs for the MCMC\n",
    "MCMC_kwargs = {\n",
    "    \"regenerate_MCMC_data\": regenerate_MCMC_data,\n",
    "    \"realization\": realization,\n",
    "    \"path_to_MCMC_data\": path_to_MCMC_data,\n",
    "    \"path_to_MCMC_chains\": path_to_MCMC_chains,\n",
    "    \"i_max\": i_max_default,\n",
    "    \"R_convergence\": R_convergence_default,\n",
    "    \"R_criterion\": R_criterion_default,\n",
    "    \"burnin_steps\": burnin_steps_default,\n",
    "    \"MCMC_iteration_steps\": MCMC_iteration_steps_default,\n",
    "}"
   ]
  },
  {
   "cell_type": "markdown",
   "metadata": {},
   "source": [
    "### - Prepare the model to scan over"
   ]
  },
  {
   "cell_type": "code",
   "execution_count": 13,
   "metadata": {},
   "outputs": [
    {
     "name": "stdout",
     "output_type": "stream",
     "text": [
      "Fisher errors [0.16604348 0.22030393]\n"
     ]
    }
   ],
   "source": [
    "if \"regenerate_catalog\" in get_tensors_kwargs.keys():\n",
    "    if get_tensors_kwargs[\"regenerate_catalog\"]:\n",
    "        rerun_MCMC = True\n",
    "\n",
    "(\n",
    "    frequency,\n",
    "    signal_value,\n",
    "    HD_functions_IJ,\n",
    "    HD_coeffs,\n",
    "    effective_noise,\n",
    "    SNR,\n",
    "    fisher,\n",
    ") = compute_fisher(\n",
    "    **fisher_kwargs,\n",
    "    get_tensors_kwargs=get_tensors_kwargs,\n",
    "    generate_catalog_kwargs=generate_catalog_kwargs,\n",
    ")\n",
    "\n",
    "covariance = ut.compute_inverse(fisher)\n",
    "fisher_data = np.random.multivariate_normal(\n",
    "    signal_parameters, covariance, size=len_fisher_data\n",
    ")\n",
    "errors = np.sqrt(np.diag(covariance))\n",
    "print(\"Fisher errors\", errors)\n",
    "\n",
    "fisher_ranges = np.vstack(\n",
    "    (signal_parameters - 5 * errors, signal_parameters + 5 * errors)\n",
    ")\n",
    "\n",
    "get_tensors_kwargs[\"regenerate_catalog\"] = False"
   ]
  },
  {
   "cell_type": "code",
   "execution_count": 14,
   "metadata": {},
   "outputs": [],
   "source": [
    "# If the priors dictionary is empty, build it from the Fisher results\n",
    "if not priors_dictionary:\n",
    "    parameter_names = signal_model.parameter_names\n",
    "    for i in range(len(parameter_names)):\n",
    "\n",
    "        priors_dictionary[parameter_names[i]] = {\n",
    "            \"uniform\": {\"loc\": fisher_ranges[0, i], \"scale\": 10.0 * errors[i]}\n",
    "        }\n",
    "\n",
    "priors = Priors(priors_dictionary)"
   ]
  },
  {
   "cell_type": "code",
   "execution_count": 15,
   "metadata": {},
   "outputs": [
    {
     "name": "stdout",
     "output_type": "stream",
     "text": [
      "\n",
      "Regenerating MCMC data\n",
      "- Data will use the expectation value\n",
      "\n",
      "Initial run\n"
     ]
    },
    {
     "name": "stderr",
     "output_type": "stream",
     "text": [
      "  0%|          | 0/300 [00:00<?, ?it/s]"
     ]
    },
    {
     "name": "stderr",
     "output_type": "stream",
     "text": [
      "100%|██████████| 300/300 [00:06<00:00, 47.64it/s]\n"
     ]
    },
    {
     "name": "stdout",
     "output_type": "stream",
     "text": [
      "Burn-in dropped, here starts the proper run\n"
     ]
    },
    {
     "name": "stderr",
     "output_type": "stream",
     "text": [
      "100%|██████████| 500/500 [00:10<00:00, 46.92it/s]"
     ]
    },
    {
     "name": "stdout",
     "output_type": "stream",
     "text": [
      "At this step R = 1.0891\n",
      "This took 17.0 seconds \n",
      "\n",
      "Storing as generated_chains/MCMC_chains.npz\n"
     ]
    },
    {
     "name": "stderr",
     "output_type": "stream",
     "text": [
      "\n"
     ]
    }
   ],
   "source": [
    "try:\n",
    "    if rerun_MCMC:\n",
    "        raise FileNotFoundError(\"Flag forces MCMC chains regeneration\")\n",
    "\n",
    "    MCMC_results = np.load(path_to_MCMC_chains)\n",
    "    MCMC_data = MCMC_results[\"samples\"]\n",
    "    pdfs = MCMC_results[\"pdfs\"]\n",
    "\n",
    "except FileNotFoundError:\n",
    "    MCMC_data, pdfs = run_MCMC(\n",
    "        priors,\n",
    "        **fisher_kwargs,\n",
    "        **MCMC_kwargs,\n",
    "        get_tensors_kwargs=get_tensors_kwargs,\n",
    "    )"
   ]
  },
  {
   "cell_type": "code",
   "execution_count": 16,
   "metadata": {},
   "outputs": [
    {
     "data": {
      "image/png": "[encoded data removed]",
      "text/plain": [
       "<Figure size 1000x800 with 4 Axes>"
      ]
     },
     "metadata": {},
     "output_type": "display_data"
    }
   ],
   "source": [
    "# Set the labels for the signal parameters\n",
    "if not parameter_labels:\n",
    "    parameter_labels = signal_model.parameter_labels\n",
    "\n",
    "# Prepare input for the plotting function\n",
    "datasets = [MCMC_data, fisher_data]\n",
    "weights = [\n",
    "    np.ones(MCMC_data.shape[0]), \n",
    "    np.ones(len_fisher_data),\n",
    "]\n",
    "smooth = [1.0, 1.0]\n",
    "ranges = np.array(fisher_ranges.T)\n",
    "\n",
    "# Do the corner plot\n",
    "pf.plot_corner(\n",
    "    datasets,\n",
    "    colors=[pf.my_colormap[\"green\"], pf.my_colormap[\"red\"]],\n",
    "    truths=signal_parameters,\n",
    "    chain_labels=[\"MCMC\", \"Fisher\"],\n",
    "    weights=weights,\n",
    "    smooth=smooth,\n",
    "    labels=parameter_labels,\n",
    "    range=ranges,\n",
    "    truth_color=\"black\",\n",
    ")"
   ]
  }
 ],
 "metadata": {
  "kernelspec": {
   "display_name": "3.10.8",
   "language": "python",
   "name": "python3"
  },
  "language_info": {
   "codemirror_mode": {
    "name": "ipython",
    "version": 3
   },
   "file_extension": ".py",
   "mimetype": "text/x-python",
   "name": "python",
   "nbconvert_exporter": "python",
   "pygments_lexer": "ipython3",
   "version": "3.10.8"
  }
 },
 "nbformat": 4,
 "nbformat_minor": 2
}
